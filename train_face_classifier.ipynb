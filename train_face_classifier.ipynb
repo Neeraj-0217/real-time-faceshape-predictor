{
 "cells": [
  {
   "cell_type": "markdown",
   "metadata": {
    "id": "tLiPVJSyN_2o"
   },
   "source": [
    "# Import the necessary libraries"
   ]
  },
  {
   "cell_type": "code",
   "execution_count": 5,
   "metadata": {
    "executionInfo": {
     "elapsed": 40,
     "status": "ok",
     "timestamp": 1755338557912,
     "user": {
      "displayName": "Vicky Kaushal",
      "userId": "17828330644383607379"
     },
     "user_tz": -330
    },
    "id": "9cw1OR8KN-pR"
   },
   "outputs": [],
   "source": [
    "import tensorflow as tf\n",
    "from tensorflow import keras\n",
    "from tensorflow.keras.preprocessing.image import ImageDataGenerator\n",
    "from tensorflow.keras.applications import MobileNetV2\n",
    "from tensorflow.keras.layers import Dense, GlobalAveragePooling2D, Dropout\n",
    "from tensorflow.keras.models import Model\n",
    "from tensorflow.keras.optimizers import Adam\n",
    "from tensorflow.keras.callbacks import ModelCheckpoint, EarlyStopping, ReduceLROnPlateau\n",
    "import os\n",
    "import numpy as np"
   ]
  },
  {
   "cell_type": "markdown",
   "metadata": {
    "id": "_W9GHE4cOHno"
   },
   "source": [
    "# Define Constants"
   ]
  },
  {
   "cell_type": "code",
   "execution_count": null,
   "metadata": {
    "colab": {
     "base_uri": "https://localhost:8080/"
    },
    "executionInfo": {
     "elapsed": 1412,
     "status": "ok",
     "timestamp": 1755338561504,
     "user": {
      "displayName": "Vicky Kaushal",
      "userId": "17828330644383607379"
     },
     "user_tz": -330
    },
    "id": "KO1G7OYuOLKJ",
    "outputId": "f6b37410-a65f-44a5-d25c-eb450604a261"
   },
   "outputs": [
    {
     "name": "stdout",
     "output_type": "stream",
     "text": [
      "Detected Classes: ['Heart', 'Oblong', 'Oval', 'Round', 'Square']\n",
      "Number of Classes: 5\n"
     ]
    }
   ],
   "source": [
    "# --- Configuration ---\n",
    "PREPROCESSED_DATA_ROOT = 'Preprocessed_data'\n",
    "IMAGE_SIZE = (224, 224)\n",
    "BATCH_SIZE = 32\n",
    "NUM_CLASSES = 5 # Heart, Oblong, Oval, Round, Square\n",
    "EPOCHS_PHASE1 = 10 # Initial epochs for training only the new layers\n",
    "EPOCHS_PHASE2 = 10 # Additional epochs for fine-tuning some base layers\n",
    "LEARNING_RATE_PHASE1 = 0.001\n",
    "LEARNING_RATE_PHASE2 = 0.0001 # Lower learning rate for fine-tuning\n",
    "MODEL_SAVE_PATH = 'models/face_shape_classifier_5_classes.h5'\n",
    "\n",
    "CLASS_NAMES = sorted(os.listdir(os.path.join(PREPROCESSED_DATA_ROOT, 'training_set')))\n",
    "print(f\"Detected Classes: {CLASS_NAMES}\")\n",
    "print(f\"Number of Classes: {len(CLASS_NAMES)}\")"
   ]
  },
  {
   "cell_type": "markdown",
   "metadata": {
    "id": "StVJ23AROYYA"
   },
   "source": [
    "# Load the preprocessed dataset"
   ]
  },
  {
   "cell_type": "code",
   "execution_count": 7,
   "metadata": {
    "colab": {
     "base_uri": "https://localhost:8080/"
    },
    "executionInfo": {
     "elapsed": 1642,
     "status": "ok",
     "timestamp": 1755338570107,
     "user": {
      "displayName": "Vicky Kaushal",
      "userId": "17828330644383607379"
     },
     "user_tz": -330
    },
    "id": "08wkMUdNOYtX",
    "outputId": "33fbbd4b-e305-482d-c998-f90f60254437"
   },
   "outputs": [
    {
     "name": "stdout",
     "output_type": "stream",
     "text": [
      "Loading datasets...\n",
      "Found 4009 images belonging to 5 classes.\n",
      "Found 1000 images belonging to 5 classes.\n",
      "Datasets loaded successfully.\n"
     ]
    }
   ],
   "source": [
    "print(\"Loading datasets...\")\n",
    "\n",
    "train_datagen = ImageDataGenerator(\n",
    "    rescale=1./255, # Normalize pixel values to 0-1\n",
    "    rotation_range=10,\n",
    "    width_shift_range=0.1,\n",
    "    height_shift_range=0.1,\n",
    "    shear_range=0.1,\n",
    "    zoom_range=0.1,\n",
    "    horizontal_flip=True,\n",
    "    fill_mode='nearest'\n",
    ")\n",
    "\n",
    "# No augmentation for validation data, only rescaling\n",
    "val_datagen = ImageDataGenerator(rescale=1./255)\n",
    "\n",
    "# Load data from directories\n",
    "train_generator = train_datagen.flow_from_directory(\n",
    "    os.path.join(PREPROCESSED_DATA_ROOT, 'training_set'),\n",
    "    target_size=IMAGE_SIZE,\n",
    "    batch_size=BATCH_SIZE,\n",
    "    class_mode='categorical',\n",
    "    shuffle=True,\n",
    "    classes=CLASS_NAMES\n",
    ")\n",
    "\n",
    "validation_generator = val_datagen.flow_from_directory(\n",
    "    os.path.join(PREPROCESSED_DATA_ROOT, 'testing_set'),\n",
    "    target_size=IMAGE_SIZE,\n",
    "    batch_size=BATCH_SIZE,\n",
    "    class_mode='categorical',\n",
    "    shuffle=False,\n",
    "    classes=CLASS_NAMES\n",
    ")\n",
    "\n",
    "print(\"Datasets loaded successfully.\")"
   ]
  },
  {
   "cell_type": "markdown",
   "metadata": {
    "id": "t4_Z7pgQOl86"
   },
   "source": [
    "# Build the Model (Transfer Learning)"
   ]
  },
  {
   "cell_type": "code",
   "execution_count": 8,
   "metadata": {
    "colab": {
     "base_uri": "https://localhost:8080/"
    },
    "executionInfo": {
     "elapsed": 3173,
     "status": "ok",
     "timestamp": 1755338576159,
     "user": {
      "displayName": "Vicky Kaushal",
      "userId": "17828330644383607379"
     },
     "user_tz": -330
    },
    "id": "ckTP6kOLOk5h",
    "outputId": "930070d4-6ef7-427d-a224-b8093fc475fa"
   },
   "outputs": [
    {
     "name": "stdout",
     "output_type": "stream",
     "text": [
      "Building model...\n",
      "Downloading data from https://storage.googleapis.com/tensorflow/keras-applications/mobilenet_v2/mobilenet_v2_weights_tf_dim_ordering_tf_kernels_1.0_224_no_top.h5\n",
      "\u001b[1m9406464/9406464\u001b[0m \u001b[32m━━━━━━━━━━━━━━━━━━━━\u001b[0m\u001b[37m\u001b[0m \u001b[1m0s\u001b[0m 0us/step\n",
      "Model Built Successfully..\n"
     ]
    }
   ],
   "source": [
    "print(\"Building model...\")\n",
    "\n",
    "# Load MobileNetV2 pre-trained on ImageNet, excluding the top (classification) layer\n",
    "base_model = MobileNetV2(\n",
    "    input_shape=(IMAGE_SIZE[0], IMAGE_SIZE[1], 3),\n",
    "    include_top=False, # Exclude the classification head\n",
    "    weights='imagenet' # Use pre-trained ImageNet weights\n",
    ")\n",
    "\n",
    "# Freeze the base model layers\n",
    "base_model.trainable = False\n",
    "\n",
    "# Add custom classification head on top of the base model\n",
    "x = base_model.output\n",
    "x = GlobalAveragePooling2D()(x)\n",
    "x = Dense(512, activation='relu')(x)\n",
    "x = Dropout(0.5)(x)\n",
    "predictions = Dense(NUM_CLASSES, activation='softmax')(x)\n",
    "\n",
    "model = Model(inputs=base_model.input, outputs=predictions)\n",
    "\n",
    "print(\"Model Built Successfully..\")"
   ]
  },
  {
   "cell_type": "markdown",
   "metadata": {
    "id": "jo8CtWLcO-pQ"
   },
   "source": [
    "# Compile the model"
   ]
  },
  {
   "cell_type": "code",
   "execution_count": 9,
   "metadata": {
    "colab": {
     "base_uri": "https://localhost:8080/"
    },
    "executionInfo": {
     "elapsed": 20,
     "status": "ok",
     "timestamp": 1755338578737,
     "user": {
      "displayName": "Vicky Kaushal",
      "userId": "17828330644383607379"
     },
     "user_tz": -330
    },
    "id": "CnwvgcoFO9Mx",
    "outputId": "c5426c36-7d70-4738-999d-36d8e9acbd69"
   },
   "outputs": [
    {
     "name": "stdout",
     "output_type": "stream",
     "text": [
      "Compiling model (Phase 1: Training custom layers)...\n",
      "Compilation Complete..\n"
     ]
    }
   ],
   "source": [
    "print(\"Compiling model (Phase 1: Training custom layers)...\")\n",
    "model.compile(optimizer=Adam(learning_rate=LEARNING_RATE_PHASE1),\n",
    "              loss='categorical_crossentropy',\n",
    "              metrics=['accuracy'])\n",
    "\n",
    "# --- Callbacks ---\n",
    "# Save the best model based on validation accuracy\n",
    "checkpoint_callback_phase1 = ModelCheckpoint(\n",
    "    MODEL_SAVE_PATH,\n",
    "    monitor='val_accuracy',\n",
    "    save_best_only=True,\n",
    "    mode='max',\n",
    "    verbose=1\n",
    ")\n",
    "# Reduce learning rate when validation accuracy stops improving\n",
    "reduce_lr_phase1 = ReduceLROnPlateau(\n",
    "    monitor='val_accuracy',\n",
    "    factor=0.2, # Reduce by a factor of 0.2 (i.e., new_lr = old_lr * 0.2)\n",
    "    patience=3, # If no improvement for 3 epochs, reduce LR\n",
    "    min_lr=0.00001,\n",
    "    verbose=1\n",
    ")\n",
    "# Early stopping to prevent overfitting\n",
    "early_stopping_phase1 = EarlyStopping(\n",
    "    monitor='val_accuracy',\n",
    "    patience=5, # Stop if no improvement for 5 epochs\n",
    "    mode='max',\n",
    "    verbose=1,\n",
    "    restore_best_weights=True # Restore weights from the best epoch\n",
    ")\n",
    "\n",
    "print('Compilation Complete..')"
   ]
  },
  {
   "cell_type": "markdown",
   "metadata": {
    "id": "SJTwK26GPSEI"
   },
   "source": [
    "# Model Training"
   ]
  },
  {
   "cell_type": "code",
   "execution_count": 10,
   "metadata": {
    "colab": {
     "base_uri": "https://localhost:8080/"
    },
    "executionInfo": {
     "elapsed": 2014604,
     "status": "ok",
     "timestamp": 1755340597577,
     "user": {
      "displayName": "Vicky Kaushal",
      "userId": "17828330644383607379"
     },
     "user_tz": -330
    },
    "id": "Cd55o4SePRhK",
    "outputId": "56104ef8-3794-43a1-bf7b-478362598490"
   },
   "outputs": [
    {
     "name": "stdout",
     "output_type": "stream",
     "text": [
      "Training Phase 1: Training custom layers...\n"
     ]
    },
    {
     "name": "stderr",
     "output_type": "stream",
     "text": [
      "/usr/local/lib/python3.11/dist-packages/keras/src/trainers/data_adapters/py_dataset_adapter.py:121: UserWarning: Your `PyDataset` class should call `super().__init__(**kwargs)` in its constructor. `**kwargs` can include `workers`, `use_multiprocessing`, `max_queue_size`. Do not pass these arguments to `fit()`, as they will be ignored.\n",
      "  self._warn_if_super_not_called()\n"
     ]
    },
    {
     "name": "stdout",
     "output_type": "stream",
     "text": [
      "Epoch 1/10\n",
      "\u001b[1m126/126\u001b[0m \u001b[32m━━━━━━━━━━━━━━━━━━━━\u001b[0m\u001b[37m\u001b[0m \u001b[1m0s\u001b[0m 8s/step - accuracy: 0.2825 - loss: 1.7754\n",
      "Epoch 1: val_accuracy improved from -inf to 0.39500, saving model to /content/drive/My Drive/Colab Notebooks/FaceShape_Analyzer/models/face_shape_classifier_5_classes.h5\n"
     ]
    },
    {
     "name": "stderr",
     "output_type": "stream",
     "text": [
      "WARNING:absl:You are saving your model as an HDF5 file via `model.save()` or `keras.saving.save_model(model)`. This file format is considered legacy. We recommend using instead the native Keras format, e.g. `model.save('my_model.keras')` or `keras.saving.save_model(model, 'my_model.keras')`. \n"
     ]
    },
    {
     "name": "stdout",
     "output_type": "stream",
     "text": [
      "\b\b\b\b\b\b\b\b\b\b\b\b\b\b\b\b\b\b\b\b\b\b\b\b\b\b\b\b\b\b\b\b\b\b\b\b\b\b\b\b\b\b\b\b\b\b\b\b\b\b\b\b\b\b\b\b\b\b\b\b\b\b\b\b\b\b\b\b\b\b\b\b\b\r\u001b[1m126/126\u001b[0m \u001b[32m━━━━━━━━━━━━━━━━━━━━\u001b[0m\u001b[37m\u001b[0m \u001b[1m1380s\u001b[0m 11s/step - accuracy: 0.2827 - loss: 1.7741 - val_accuracy: 0.3950 - val_loss: 1.4300 - learning_rate: 0.0010\n",
      "Epoch 2/10\n",
      "\u001b[1m126/126\u001b[0m \u001b[32m━━━━━━━━━━━━━━━━━━━━\u001b[0m\u001b[37m\u001b[0m \u001b[1m0s\u001b[0m 459ms/step - accuracy: 0.3818 - loss: 1.4319\n",
      "Epoch 2: val_accuracy improved from 0.39500 to 0.43700, saving model to /content/drive/My Drive/Colab Notebooks/FaceShape_Analyzer/models/face_shape_classifier_5_classes.h5\n"
     ]
    },
    {
     "name": "stderr",
     "output_type": "stream",
     "text": [
      "WARNING:absl:You are saving your model as an HDF5 file via `model.save()` or `keras.saving.save_model(model)`. This file format is considered legacy. We recommend using instead the native Keras format, e.g. `model.save('my_model.keras')` or `keras.saving.save_model(model, 'my_model.keras')`. \n"
     ]
    },
    {
     "name": "stdout",
     "output_type": "stream",
     "text": [
      "\b\b\b\b\b\b\b\b\b\b\b\b\b\b\b\b\b\b\b\b\b\b\b\b\b\b\b\b\b\b\b\b\b\b\b\b\b\b\b\b\b\b\b\b\b\b\b\b\b\b\b\b\b\b\b\b\b\b\b\b\b\b\b\b\b\b\b\b\b\b\b\b\b\b\b\b\r\u001b[1m126/126\u001b[0m \u001b[32m━━━━━━━━━━━━━━━━━━━━\u001b[0m\u001b[37m\u001b[0m \u001b[1m63s\u001b[0m 500ms/step - accuracy: 0.3820 - loss: 1.4317 - val_accuracy: 0.4370 - val_loss: 1.3476 - learning_rate: 0.0010\n",
      "Epoch 3/10\n",
      "\u001b[1m126/126\u001b[0m \u001b[32m━━━━━━━━━━━━━━━━━━━━\u001b[0m\u001b[37m\u001b[0m \u001b[1m0s\u001b[0m 474ms/step - accuracy: 0.4492 - loss: 1.3384\n",
      "Epoch 3: val_accuracy did not improve from 0.43700\n",
      "\u001b[1m126/126\u001b[0m \u001b[32m━━━━━━━━━━━━━━━━━━━━\u001b[0m\u001b[37m\u001b[0m \u001b[1m64s\u001b[0m 503ms/step - accuracy: 0.4491 - loss: 1.3386 - val_accuracy: 0.4290 - val_loss: 1.3404 - learning_rate: 0.0010\n",
      "Epoch 4/10\n",
      "\u001b[1m126/126\u001b[0m \u001b[32m━━━━━━━━━━━━━━━━━━━━\u001b[0m\u001b[37m\u001b[0m \u001b[1m0s\u001b[0m 487ms/step - accuracy: 0.4606 - loss: 1.3249\n",
      "Epoch 4: val_accuracy did not improve from 0.43700\n",
      "\u001b[1m126/126\u001b[0m \u001b[32m━━━━━━━━━━━━━━━━━━━━\u001b[0m\u001b[37m\u001b[0m \u001b[1m65s\u001b[0m 515ms/step - accuracy: 0.4606 - loss: 1.3248 - val_accuracy: 0.4300 - val_loss: 1.3418 - learning_rate: 0.0010\n",
      "Epoch 5/10\n",
      "\u001b[1m126/126\u001b[0m \u001b[32m━━━━━━━━━━━━━━━━━━━━\u001b[0m\u001b[37m\u001b[0m \u001b[1m0s\u001b[0m 461ms/step - accuracy: 0.4620 - loss: 1.3069\n",
      "Epoch 5: val_accuracy improved from 0.43700 to 0.46100, saving model to /content/drive/My Drive/Colab Notebooks/FaceShape_Analyzer/models/face_shape_classifier_5_classes.h5\n"
     ]
    },
    {
     "name": "stderr",
     "output_type": "stream",
     "text": [
      "WARNING:absl:You are saving your model as an HDF5 file via `model.save()` or `keras.saving.save_model(model)`. This file format is considered legacy. We recommend using instead the native Keras format, e.g. `model.save('my_model.keras')` or `keras.saving.save_model(model, 'my_model.keras')`. \n"
     ]
    },
    {
     "name": "stdout",
     "output_type": "stream",
     "text": [
      "\b\b\b\b\b\b\b\b\b\b\b\b\b\b\b\b\b\b\b\b\b\b\b\b\b\b\b\b\b\b\b\b\b\b\b\b\b\b\b\b\b\b\b\b\b\b\b\b\b\b\b\b\b\b\b\b\b\b\b\b\b\b\b\b\b\b\b\b\b\b\b\b\b\b\b\b\r\u001b[1m126/126\u001b[0m \u001b[32m━━━━━━━━━━━━━━━━━━━━\u001b[0m\u001b[37m\u001b[0m \u001b[1m65s\u001b[0m 515ms/step - accuracy: 0.4620 - loss: 1.3068 - val_accuracy: 0.4610 - val_loss: 1.2922 - learning_rate: 0.0010\n",
      "Epoch 6/10\n",
      "\u001b[1m126/126\u001b[0m \u001b[32m━━━━━━━━━━━━━━━━━━━━\u001b[0m\u001b[37m\u001b[0m \u001b[1m0s\u001b[0m 471ms/step - accuracy: 0.4642 - loss: 1.2746\n",
      "Epoch 6: val_accuracy improved from 0.46100 to 0.46400, saving model to /content/drive/My Drive/Colab Notebooks/FaceShape_Analyzer/models/face_shape_classifier_5_classes.h5\n"
     ]
    },
    {
     "name": "stderr",
     "output_type": "stream",
     "text": [
      "WARNING:absl:You are saving your model as an HDF5 file via `model.save()` or `keras.saving.save_model(model)`. This file format is considered legacy. We recommend using instead the native Keras format, e.g. `model.save('my_model.keras')` or `keras.saving.save_model(model, 'my_model.keras')`. \n"
     ]
    },
    {
     "name": "stdout",
     "output_type": "stream",
     "text": [
      "\b\b\b\b\b\b\b\b\b\b\b\b\b\b\b\b\b\b\b\b\b\b\b\b\b\b\b\b\b\b\b\b\b\b\b\b\b\b\b\b\b\b\b\b\b\b\b\b\b\b\b\b\b\b\b\b\b\b\b\b\b\b\b\b\b\b\b\b\b\b\b\b\b\b\b\b\r\u001b[1m126/126\u001b[0m \u001b[32m━━━━━━━━━━━━━━━━━━━━\u001b[0m\u001b[37m\u001b[0m \u001b[1m66s\u001b[0m 525ms/step - accuracy: 0.4642 - loss: 1.2748 - val_accuracy: 0.4640 - val_loss: 1.2706 - learning_rate: 0.0010\n",
      "Epoch 7/10\n",
      "\u001b[1m126/126\u001b[0m \u001b[32m━━━━━━━━━━━━━━━━━━━━\u001b[0m\u001b[37m\u001b[0m \u001b[1m0s\u001b[0m 471ms/step - accuracy: 0.4858 - loss: 1.2462\n",
      "Epoch 7: val_accuracy did not improve from 0.46400\n",
      "\u001b[1m126/126\u001b[0m \u001b[32m━━━━━━━━━━━━━━━━━━━━\u001b[0m\u001b[37m\u001b[0m \u001b[1m79s\u001b[0m 503ms/step - accuracy: 0.4858 - loss: 1.2462 - val_accuracy: 0.4630 - val_loss: 1.2940 - learning_rate: 0.0010\n",
      "Epoch 8/10\n",
      "\u001b[1m126/126\u001b[0m \u001b[32m━━━━━━━━━━━━━━━━━━━━\u001b[0m\u001b[37m\u001b[0m \u001b[1m0s\u001b[0m 457ms/step - accuracy: 0.4900 - loss: 1.2692\n",
      "Epoch 8: val_accuracy improved from 0.46400 to 0.48300, saving model to /content/drive/My Drive/Colab Notebooks/FaceShape_Analyzer/models/face_shape_classifier_5_classes.h5\n"
     ]
    },
    {
     "name": "stderr",
     "output_type": "stream",
     "text": [
      "WARNING:absl:You are saving your model as an HDF5 file via `model.save()` or `keras.saving.save_model(model)`. This file format is considered legacy. We recommend using instead the native Keras format, e.g. `model.save('my_model.keras')` or `keras.saving.save_model(model, 'my_model.keras')`. \n"
     ]
    },
    {
     "name": "stdout",
     "output_type": "stream",
     "text": [
      "\b\b\b\b\b\b\b\b\b\b\b\b\b\b\b\b\b\b\b\b\b\b\b\b\b\b\b\b\b\b\b\b\b\b\b\b\b\b\b\b\b\b\b\b\b\b\b\b\b\b\b\b\b\b\b\b\b\b\b\b\b\b\b\b\b\b\b\b\b\b\b\b\b\b\b\b\r\u001b[1m126/126\u001b[0m \u001b[32m━━━━━━━━━━━━━━━━━━━━\u001b[0m\u001b[37m\u001b[0m \u001b[1m63s\u001b[0m 500ms/step - accuracy: 0.4900 - loss: 1.2690 - val_accuracy: 0.4830 - val_loss: 1.2317 - learning_rate: 0.0010\n",
      "Epoch 9/10\n",
      "\u001b[1m126/126\u001b[0m \u001b[32m━━━━━━━━━━━━━━━━━━━━\u001b[0m\u001b[37m\u001b[0m \u001b[1m0s\u001b[0m 475ms/step - accuracy: 0.5007 - loss: 1.2149\n",
      "Epoch 9: val_accuracy did not improve from 0.48300\n",
      "\u001b[1m126/126\u001b[0m \u001b[32m━━━━━━━━━━━━━━━━━━━━\u001b[0m\u001b[37m\u001b[0m \u001b[1m64s\u001b[0m 505ms/step - accuracy: 0.5006 - loss: 1.2151 - val_accuracy: 0.4590 - val_loss: 1.2653 - learning_rate: 0.0010\n",
      "Epoch 10/10\n",
      "\u001b[1m126/126\u001b[0m \u001b[32m━━━━━━━━━━━━━━━━━━━━\u001b[0m\u001b[37m\u001b[0m \u001b[1m0s\u001b[0m 470ms/step - accuracy: 0.5121 - loss: 1.1973\n",
      "Epoch 10: val_accuracy did not improve from 0.48300\n",
      "\u001b[1m126/126\u001b[0m \u001b[32m━━━━━━━━━━━━━━━━━━━━\u001b[0m\u001b[37m\u001b[0m \u001b[1m64s\u001b[0m 511ms/step - accuracy: 0.5121 - loss: 1.1974 - val_accuracy: 0.4790 - val_loss: 1.2525 - learning_rate: 0.0010\n",
      "Restoring model weights from the end of the best epoch: 8.\n",
      "Phase 1 training complete.\n"
     ]
    }
   ],
   "source": [
    "print(\"Training Phase 1: Training custom layers...\")\n",
    "history_phase1 = model.fit(\n",
    "    train_generator,\n",
    "    epochs=EPOCHS_PHASE1,\n",
    "    validation_data=validation_generator,\n",
    "    callbacks=[checkpoint_callback_phase1, reduce_lr_phase1, early_stopping_phase1]\n",
    ")\n",
    "print(\"Phase 1 training complete.\")"
   ]
  },
  {
   "cell_type": "markdown",
   "metadata": {
    "id": "6Q20-xKzPfKA"
   },
   "source": [
    "# Fine Tuning and Retraining"
   ]
  },
  {
   "cell_type": "code",
   "execution_count": 11,
   "metadata": {
    "colab": {
     "base_uri": "https://localhost:8080/"
    },
    "executionInfo": {
     "elapsed": 696595,
     "status": "ok",
     "timestamp": 1755341320972,
     "user": {
      "displayName": "Vicky Kaushal",
      "userId": "17828330644383607379"
     },
     "user_tz": -330
    },
    "id": "PuAaEiybPWaJ",
    "outputId": "5333f088-dc49-48e0-8a3f-bcd8a716a794"
   },
   "outputs": [
    {
     "name": "stdout",
     "output_type": "stream",
     "text": [
      "\n",
      "Starting Phase 2: Fine-tuning the model...\n",
      "Training Phase 2: Fine-tuning...\n",
      "Epoch 11/20\n",
      "\u001b[1m126/126\u001b[0m \u001b[32m━━━━━━━━━━━━━━━━━━━━\u001b[0m\u001b[37m\u001b[0m \u001b[1m0s\u001b[0m 516ms/step - accuracy: 0.4224 - loss: 1.4216\n",
      "Epoch 11: val_accuracy improved from -inf to 0.50200, saving model to /content/drive/My Drive/Colab Notebooks/FaceShape_Analyzer/models/face_shape_classifier_5_classes.h5\n"
     ]
    },
    {
     "name": "stderr",
     "output_type": "stream",
     "text": [
      "WARNING:absl:You are saving your model as an HDF5 file via `model.save()` or `keras.saving.save_model(model)`. This file format is considered legacy. We recommend using instead the native Keras format, e.g. `model.save('my_model.keras')` or `keras.saving.save_model(model, 'my_model.keras')`. \n"
     ]
    },
    {
     "name": "stdout",
     "output_type": "stream",
     "text": [
      "\b\b\b\b\b\b\b\b\b\b\b\b\b\b\b\b\b\b\b\b\b\b\b\b\b\b\b\b\b\b\b\b\b\b\b\b\b\b\b\b\b\b\b\b\b\b\b\b\b\b\b\b\b\b\b\b\b\b\b\b\b\b\b\b\b\b\b\b\b\b\b\b\b\b\b\b\r\u001b[1m126/126\u001b[0m \u001b[32m━━━━━━━━━━━━━━━━━━━━\u001b[0m\u001b[37m\u001b[0m \u001b[1m94s\u001b[0m 617ms/step - accuracy: 0.4227 - loss: 1.4207 - val_accuracy: 0.5020 - val_loss: 1.3098 - learning_rate: 1.0000e-04\n",
      "Epoch 12/20\n",
      "\u001b[1m126/126\u001b[0m \u001b[32m━━━━━━━━━━━━━━━━━━━━\u001b[0m\u001b[37m\u001b[0m \u001b[1m0s\u001b[0m 502ms/step - accuracy: 0.5799 - loss: 1.0739\n",
      "Epoch 12: val_accuracy did not improve from 0.50200\n",
      "\u001b[1m126/126\u001b[0m \u001b[32m━━━━━━━━━━━━━━━━━━━━\u001b[0m\u001b[37m\u001b[0m \u001b[1m67s\u001b[0m 531ms/step - accuracy: 0.5799 - loss: 1.0738 - val_accuracy: 0.4630 - val_loss: 2.0633 - learning_rate: 1.0000e-04\n",
      "Epoch 13/20\n",
      "\u001b[1m126/126\u001b[0m \u001b[32m━━━━━━━━━━━━━━━━━━━━\u001b[0m\u001b[37m\u001b[0m \u001b[1m0s\u001b[0m 479ms/step - accuracy: 0.6174 - loss: 0.9689\n",
      "Epoch 13: val_accuracy improved from 0.50200 to 0.51100, saving model to /content/drive/My Drive/Colab Notebooks/FaceShape_Analyzer/models/face_shape_classifier_5_classes.h5\n"
     ]
    },
    {
     "name": "stderr",
     "output_type": "stream",
     "text": [
      "WARNING:absl:You are saving your model as an HDF5 file via `model.save()` or `keras.saving.save_model(model)`. This file format is considered legacy. We recommend using instead the native Keras format, e.g. `model.save('my_model.keras')` or `keras.saving.save_model(model, 'my_model.keras')`. \n"
     ]
    },
    {
     "name": "stdout",
     "output_type": "stream",
     "text": [
      "\b\b\b\b\b\b\b\b\b\b\b\b\b\b\b\b\b\b\b\b\b\b\b\b\b\b\b\b\b\b\b\b\b\b\b\b\b\b\b\b\b\b\b\b\b\b\b\b\b\b\b\b\b\b\b\b\b\b\b\b\b\b\b\b\b\b\b\b\b\b\b\b\b\b\b\b\r\u001b[1m126/126\u001b[0m \u001b[32m━━━━━━━━━━━━━━━━━━━━\u001b[0m\u001b[37m\u001b[0m \u001b[1m66s\u001b[0m 523ms/step - accuracy: 0.6175 - loss: 0.9687 - val_accuracy: 0.5110 - val_loss: 1.5809 - learning_rate: 1.0000e-04\n",
      "Epoch 14/20\n",
      "\u001b[1m126/126\u001b[0m \u001b[32m━━━━━━━━━━━━━━━━━━━━\u001b[0m\u001b[37m\u001b[0m \u001b[1m0s\u001b[0m 461ms/step - accuracy: 0.6827 - loss: 0.8391\n",
      "Epoch 14: val_accuracy improved from 0.51100 to 0.52300, saving model to /content/drive/My Drive/Colab Notebooks/FaceShape_Analyzer/models/face_shape_classifier_5_classes.h5\n"
     ]
    },
    {
     "name": "stderr",
     "output_type": "stream",
     "text": [
      "WARNING:absl:You are saving your model as an HDF5 file via `model.save()` or `keras.saving.save_model(model)`. This file format is considered legacy. We recommend using instead the native Keras format, e.g. `model.save('my_model.keras')` or `keras.saving.save_model(model, 'my_model.keras')`. \n"
     ]
    },
    {
     "name": "stdout",
     "output_type": "stream",
     "text": [
      "\b\b\b\b\b\b\b\b\b\b\b\b\b\b\b\b\b\b\b\b\b\b\b\b\b\b\b\b\b\b\b\b\b\b\b\b\b\b\b\b\b\b\b\b\b\b\b\b\b\b\b\b\b\b\b\b\b\b\b\b\b\b\b\b\b\b\b\b\b\b\b\b\b\b\b\b\r\u001b[1m126/126\u001b[0m \u001b[32m━━━━━━━━━━━━━━━━━━━━\u001b[0m\u001b[37m\u001b[0m \u001b[1m64s\u001b[0m 510ms/step - accuracy: 0.6827 - loss: 0.8392 - val_accuracy: 0.5230 - val_loss: 1.5842 - learning_rate: 1.0000e-04\n",
      "Epoch 15/20\n",
      "\u001b[1m126/126\u001b[0m \u001b[32m━━━━━━━━━━━━━━━━━━━━\u001b[0m\u001b[37m\u001b[0m \u001b[1m0s\u001b[0m 462ms/step - accuracy: 0.7279 - loss: 0.7395\n",
      "Epoch 15: val_accuracy improved from 0.52300 to 0.59800, saving model to /content/drive/My Drive/Colab Notebooks/FaceShape_Analyzer/models/face_shape_classifier_5_classes.h5\n"
     ]
    },
    {
     "name": "stderr",
     "output_type": "stream",
     "text": [
      "WARNING:absl:You are saving your model as an HDF5 file via `model.save()` or `keras.saving.save_model(model)`. This file format is considered legacy. We recommend using instead the native Keras format, e.g. `model.save('my_model.keras')` or `keras.saving.save_model(model, 'my_model.keras')`. \n"
     ]
    },
    {
     "name": "stdout",
     "output_type": "stream",
     "text": [
      "\b\b\b\b\b\b\b\b\b\b\b\b\b\b\b\b\b\b\b\b\b\b\b\b\b\b\b\b\b\b\b\b\b\b\b\b\b\b\b\b\b\b\b\b\b\b\b\b\b\b\b\b\b\b\b\b\b\b\b\b\b\b\b\b\b\b\b\b\b\b\b\b\b\b\b\b\r\u001b[1m126/126\u001b[0m \u001b[32m━━━━━━━━━━━━━━━━━━━━\u001b[0m\u001b[37m\u001b[0m \u001b[1m63s\u001b[0m 503ms/step - accuracy: 0.7279 - loss: 0.7396 - val_accuracy: 0.5980 - val_loss: 1.1276 - learning_rate: 1.0000e-04\n",
      "Epoch 16/20\n",
      "\u001b[1m126/126\u001b[0m \u001b[32m━━━━━━━━━━━━━━━━━━━━\u001b[0m\u001b[37m\u001b[0m \u001b[1m0s\u001b[0m 474ms/step - accuracy: 0.7560 - loss: 0.6470\n",
      "Epoch 16: val_accuracy did not improve from 0.59800\n",
      "\u001b[1m126/126\u001b[0m \u001b[32m━━━━━━━━━━━━━━━━━━━━\u001b[0m\u001b[37m\u001b[0m \u001b[1m82s\u001b[0m 507ms/step - accuracy: 0.7559 - loss: 0.6471 - val_accuracy: 0.5400 - val_loss: 1.5479 - learning_rate: 1.0000e-04\n",
      "Epoch 17/20\n",
      "\u001b[1m126/126\u001b[0m \u001b[32m━━━━━━━━━━━━━━━━━━━━\u001b[0m\u001b[37m\u001b[0m \u001b[1m0s\u001b[0m 461ms/step - accuracy: 0.7767 - loss: 0.6365\n",
      "Epoch 17: val_accuracy did not improve from 0.59800\n",
      "\u001b[1m126/126\u001b[0m \u001b[32m━━━━━━━━━━━━━━━━━━━━\u001b[0m\u001b[37m\u001b[0m \u001b[1m63s\u001b[0m 502ms/step - accuracy: 0.7767 - loss: 0.6365 - val_accuracy: 0.5870 - val_loss: 1.3657 - learning_rate: 1.0000e-04\n",
      "Epoch 18/20\n",
      "\u001b[1m126/126\u001b[0m \u001b[32m━━━━━━━━━━━━━━━━━━━━\u001b[0m\u001b[37m\u001b[0m \u001b[1m0s\u001b[0m 462ms/step - accuracy: 0.8053 - loss: 0.5315\n",
      "Epoch 18: val_accuracy improved from 0.59800 to 0.60300, saving model to /content/drive/My Drive/Colab Notebooks/FaceShape_Analyzer/models/face_shape_classifier_5_classes.h5\n"
     ]
    },
    {
     "name": "stderr",
     "output_type": "stream",
     "text": [
      "WARNING:absl:You are saving your model as an HDF5 file via `model.save()` or `keras.saving.save_model(model)`. This file format is considered legacy. We recommend using instead the native Keras format, e.g. `model.save('my_model.keras')` or `keras.saving.save_model(model, 'my_model.keras')`. \n"
     ]
    },
    {
     "name": "stdout",
     "output_type": "stream",
     "text": [
      "\b\b\b\b\b\b\b\b\b\b\b\b\b\b\b\b\b\b\b\b\b\b\b\b\b\b\b\b\b\b\b\b\b\b\b\b\b\b\b\b\b\b\b\b\b\b\b\b\b\b\b\b\b\b\b\b\b\b\b\b\b\b\b\b\b\b\b\b\b\b\b\b\b\b\b\b\r\u001b[1m126/126\u001b[0m \u001b[32m━━━━━━━━━━━━━━━━━━━━\u001b[0m\u001b[37m\u001b[0m \u001b[1m64s\u001b[0m 504ms/step - accuracy: 0.8053 - loss: 0.5316 - val_accuracy: 0.6030 - val_loss: 1.4437 - learning_rate: 1.0000e-04\n",
      "Epoch 19/20\n",
      "\u001b[1m126/126\u001b[0m \u001b[32m━━━━━━━━━━━━━━━━━━━━\u001b[0m\u001b[37m\u001b[0m \u001b[1m0s\u001b[0m 487ms/step - accuracy: 0.8082 - loss: 0.5139\n",
      "Epoch 19: val_accuracy improved from 0.60300 to 0.61500, saving model to /content/drive/My Drive/Colab Notebooks/FaceShape_Analyzer/models/face_shape_classifier_5_classes.h5\n"
     ]
    },
    {
     "name": "stderr",
     "output_type": "stream",
     "text": [
      "WARNING:absl:You are saving your model as an HDF5 file via `model.save()` or `keras.saving.save_model(model)`. This file format is considered legacy. We recommend using instead the native Keras format, e.g. `model.save('my_model.keras')` or `keras.saving.save_model(model, 'my_model.keras')`. \n"
     ]
    },
    {
     "name": "stdout",
     "output_type": "stream",
     "text": [
      "\b\b\b\b\b\b\b\b\b\b\b\b\b\b\b\b\b\b\b\b\b\b\b\b\b\b\b\b\b\b\b\b\b\b\b\b\b\b\b\b\b\b\b\b\b\b\b\b\b\b\b\b\b\b\b\b\b\b\b\b\b\b\b\b\b\b\b\b\b\b\b\b\b\b\b\b\r\u001b[1m126/126\u001b[0m \u001b[32m━━━━━━━━━━━━━━━━━━━━\u001b[0m\u001b[37m\u001b[0m \u001b[1m67s\u001b[0m 529ms/step - accuracy: 0.8082 - loss: 0.5139 - val_accuracy: 0.6150 - val_loss: 1.3057 - learning_rate: 1.0000e-04\n",
      "Epoch 20/20\n",
      "\u001b[1m126/126\u001b[0m \u001b[32m━━━━━━━━━━━━━━━━━━━━\u001b[0m\u001b[37m\u001b[0m \u001b[1m0s\u001b[0m 479ms/step - accuracy: 0.8389 - loss: 0.4539\n",
      "Epoch 20: val_accuracy did not improve from 0.61500\n",
      "\u001b[1m126/126\u001b[0m \u001b[32m━━━━━━━━━━━━━━━━━━━━\u001b[0m\u001b[37m\u001b[0m \u001b[1m65s\u001b[0m 520ms/step - accuracy: 0.8388 - loss: 0.4541 - val_accuracy: 0.6150 - val_loss: 1.3512 - learning_rate: 1.0000e-04\n",
      "Restoring model weights from the end of the best epoch: 19.\n",
      "\n",
      "Model training complete!\n",
      "Final model saved to: /content/drive/My Drive/Colab Notebooks/FaceShape_Analyzer/models/face_shape_classifier_5_classes.h5\n"
     ]
    }
   ],
   "source": [
    "print(\"\\nStarting Phase 2: Fine-tuning the model...\")\n",
    "\n",
    "# Unfreeze some layers of the base model\n",
    "base_model.trainable = True\n",
    "\n",
    "# Freeze all layers except the last few (e.g., last 20 layers of MobileNetV2)\n",
    "for layer in base_model.layers[:-20]: # Unfreeze the last 20 layers, keep earlier ones frozen\n",
    "    layer.trainable = False\n",
    "\n",
    "# Recompile the model with a lower learning rate\n",
    "model.compile(optimizer=Adam(learning_rate=LEARNING_RATE_PHASE2),\n",
    "              loss='categorical_crossentropy',\n",
    "              metrics=['accuracy'])\n",
    "\n",
    "# --- Callbacks for Phase 2 ---\n",
    "checkpoint_callback_phase2 = ModelCheckpoint(\n",
    "    MODEL_SAVE_PATH, # Overwrite the previous best model if this one is better\n",
    "    monitor='val_accuracy',\n",
    "    save_best_only=True,\n",
    "    mode='max',\n",
    "    verbose=1\n",
    ")\n",
    "reduce_lr_phase2 = ReduceLROnPlateau(\n",
    "    monitor='val_accuracy',\n",
    "    factor=0.2,\n",
    "    patience=3,\n",
    "    min_lr=0.000001, # Even lower minimum LR\n",
    "    verbose=1\n",
    ")\n",
    "early_stopping_phase2 = EarlyStopping(\n",
    "    monitor='val_accuracy',\n",
    "    patience=7,\n",
    "    mode='max',\n",
    "    verbose=1,\n",
    "    restore_best_weights=True\n",
    ")\n",
    "\n",
    "# Continue training from the state after Phase 1\n",
    "print(\"Training Phase 2: Fine-tuning...\")\n",
    "history_phase2 = model.fit(\n",
    "    train_generator,\n",
    "    epochs=EPOCHS_PHASE1 + EPOCHS_PHASE2, # Total epochs will be sum, but it continues from EPOCHS_PHASE1\n",
    "    initial_epoch=history_phase1.epoch[-1] + 1 if history_phase1.epoch else 0, # Start from where Phase 1 left off\n",
    "    validation_data=validation_generator,\n",
    "    callbacks=[checkpoint_callback_phase2, reduce_lr_phase2, early_stopping_phase2]\n",
    ")\n",
    "\n",
    "print(\"\\nModel training complete!\")\n",
    "print(f\"Final model saved to: {MODEL_SAVE_PATH}\")"
   ]
  },
  {
   "cell_type": "markdown",
   "metadata": {
    "id": "lNbtREnDPs7Q"
   },
   "source": [
    "# Evalution"
   ]
  },
  {
   "cell_type": "code",
   "execution_count": 12,
   "metadata": {
    "colab": {
     "base_uri": "https://localhost:8080/"
    },
    "executionInfo": {
     "elapsed": 5466,
     "status": "ok",
     "timestamp": 1755341524910,
     "user": {
      "displayName": "Vicky Kaushal",
      "userId": "17828330644383607379"
     },
     "user_tz": -330
    },
    "id": "kSmZPTHPPuow",
    "outputId": "f45d3d4e-6744-443b-c93c-51c85eb750ea"
   },
   "outputs": [
    {
     "name": "stdout",
     "output_type": "stream",
     "text": [
      "\n",
      "Evaluating final model on the validation set...\n",
      "\u001b[1m32/32\u001b[0m \u001b[32m━━━━━━━━━━━━━━━━━━━━\u001b[0m\u001b[37m\u001b[0m \u001b[1m4s\u001b[0m 125ms/step - accuracy: 0.6847 - loss: 0.9722\n",
      "Validation Loss: 1.3057\n",
      "Validation Accuracy: 0.6150\n"
     ]
    }
   ],
   "source": [
    "print(\"\\nEvaluating final model on the validation set...\")\n",
    "loss, accuracy = model.evaluate(validation_generator)\n",
    "print(f\"Validation Loss: {loss:.4f}\")\n",
    "print(f\"Validation Accuracy: {accuracy:.4f}\")"
   ]
  }
 ],
 "metadata": {
  "accelerator": "GPU",
  "colab": {
   "authorship_tag": "ABX9TyMPc3zz/ajps3LLvEbXiMTZ",
   "gpuType": "T4",
   "provenance": []
  },
  "kernelspec": {
   "display_name": "Python 3",
   "name": "python3"
  },
  "language_info": {
   "name": "python"
  }
 },
 "nbformat": 4,
 "nbformat_minor": 0
}
